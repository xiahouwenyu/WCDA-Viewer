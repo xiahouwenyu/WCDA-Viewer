{
 "cells": [
  {
   "cell_type": "code",
   "execution_count": 1,
   "metadata": {},
   "outputs": [
    {
     "name": "stdout",
     "output_type": "stream",
     "text": [
      "Welcome to JupyROOT 6.24/06\n"
     ]
    }
   ],
   "source": [
    "import ROOT as rt\n",
    "from root_numpy import root2array, testdata, tree2array\n",
    "import numpy as np\n",
    "import pandas as pd\n",
    "\n",
    "from matplotlib.backends.backend_agg import FigureCanvasAgg as FigureCanvas\n",
    "from matplotlib.figure import Figure\n",
    "import matplotlib.pyplot as plt\n",
    "import matplotlib.colors as colors\n",
    "import matplotlib\n",
    "matplotlib.use('Agg')\n",
    "import scipy.ndimage as ndi\n",
    "\n",
    "from tqdm import tqdm\n",
    "import io\n",
    "import os\n",
    "import glob"
   ]
  },
  {
   "cell_type": "code",
   "execution_count": 3,
   "metadata": {},
   "outputs": [],
   "source": [
    "# Parameters\n",
    "fgname = \"/eos/user/z/zwang/wcda/data/mc/g4s2_rec/gamma_rec_143800t.root\"\n",
    "fhname = \"/eos/user/z/zwang/wcda/data/mc/g4s2_rec/hadron_rec_1970s.root\""
   ]
  },
  {
   "cell_type": "code",
   "execution_count": 4,
   "metadata": {},
   "outputs": [],
   "source": [
    "# Tool function\n",
    "\n",
    "def show_mem():\n",
    "    import psutil\n",
    "    \"Show mem\"\n",
    "    info = psutil.virtual_memory()\n",
    "    print( u'电脑总内存：%.4f GB' % (info.total / 1024 / 1024 / 1024) )\n",
    "    print(u'当前使用的总内存占比：',info.percent)\n",
    "    print(u'cpu个数：',psutil.cpu_count())\n",
    "\n",
    "def flatten(items):\n",
    "    \"flatten anything\"\n",
    "    for item in items:\n",
    "        if isinstance(item, (list, np.ndarray, tuple, np.void)):\n",
    "            yield from flatten(item)\n",
    "        else:\n",
    "            yield item"
   ]
  },
  {
   "cell_type": "code",
   "execution_count": 11,
   "metadata": {},
   "outputs": [
    {
     "data": {
      "text/plain": [
       "['irun',\n",
       " 'evt',\n",
       " 'nhit',\n",
       " 'nfit',\n",
       " 'sump1',\n",
       " 'sump2',\n",
       " 'mjd',\n",
       " 'sigma',\n",
       " 'theta',\n",
       " 'phi',\n",
       " 'xc',\n",
       " 'yc',\n",
       " 'ra',\n",
       " 'dec',\n",
       " 'fee',\n",
       " 'ch',\n",
       " 'iconf',\n",
       " 'npe',\n",
       " 'npe_c',\n",
       " 'dr',\n",
       " 'tr',\n",
       " 't',\n",
       " 'x',\n",
       " 'y',\n",
       " 'cpx',\n",
       " 'pinc',\n",
       " 'csr',\n",
       " 'dcore',\n",
       " 'dangle',\n",
       " 'dangle_real',\n",
       " 'priE',\n",
       " 'zenmc',\n",
       " 'azimc',\n",
       " 'xcmc',\n",
       " 'ycmc',\n",
       " 'h1',\n",
       " 'weight',\n",
       " 'dangle_real',\n",
       " 'dcore_real']"
      ]
     },
     "execution_count": 11,
     "metadata": {},
     "output_type": "execute_result"
    }
   ],
   "source": [
    "# read root data\n",
    "import re\n",
    "fgamma=rt.TFile(fgname)\n",
    "fhadron=rt.TFile(fhname)\n",
    "\n",
    "tgamma = fgamma.Get(\"rec\")\n",
    "thadron = fhadron.Get(\"rec\")\n",
    "\n",
    "[str(i).split()[1] for i in list(tgamma.GetListOfBranches())]"
   ]
  },
  {
   "cell_type": "code",
   "execution_count": null,
   "metadata": {},
   "outputs": [],
   "source": [
    "\n",
    "gpe = tree2array(tgamma, branches=['npe'])\n",
    "gx = tree2array(tgamma, branches=['x'])\n",
    "gy = tree2array(tgamma, branches=['y'])\n",
    "gt = tree2array(tgamma, branches=['t'])\n",
    "# gtr = tree2array(tgamma, branches=['tr'])\n",
    "# giconf = tree2array(tgamma, branches=['iconf'])\n",
    "# gtr = tree2array(tgamma, branches=['tr'])\n",
    "# gdr = tree2array(tgamma, branches=['dr'])\n",
    "# gcpx = tree2array(tgamma, branches=['cpx'])\n",
    "# gpinc = tree2array(tgamma, branches=['pinc'])\n",
    "# gE = tree2array(tgamma, branches=['priE'])\n",
    "gnhit = tree2array(tgamma, branches=['nhit'])\n",
    "# gfee = tree2array(tgamma, branches=['fee'])\n",
    "# gch = tree2array(tgamma, branches=['ch'])\n",
    "# gevt = tree2array(tgamma, branches=['evt'])\n",
    "# gxcmc = tree2array(tgamma, branches=['xcmc'])\n",
    "# gycmc = tree2array(tgamma, branches=['ycmc'])\n",
    "# gzenmc = tree2array(tgamma, branches=['zenmc'])\n",
    "# gazimc = tree2array(tgamma, branches=['azimc'])\n",
    "\n",
    "hpe = tree2array(thadron, branches=['npe'])\n",
    "hx = tree2array(thadron, branches=['x'])\n",
    "hy = tree2array(thadron, branches=['y'])\n",
    "ht = tree2array(thadron, branches=['t'])\n",
    "# htr = tree2array(thadron, branches=['tr'])\n",
    "# hiconf = tree2array(thadron, branches=['iconf'])\n",
    "# htr = tree2array(thadron, branches=['tr'])\n",
    "# hdr = tree2array(thadron, branches=['dr'])\n",
    "# hcpx = tree2array(thadron, branches=['cpx'])\n",
    "# hpinc = tree2array(thadron, branches=['pinc'])\n",
    "# hE = tree2array(thadron, branches=['priE'])\n",
    "hnhit = tree2array(thadron, branches=['nhit'])\n",
    "# hfee = tree2array(thadron, branches=['fee'])\n",
    "# hch = tree2array(thadron, branches=['ch'])\n",
    "# hevt = tree2array(thadron, branches=['evt'])\n",
    "# hxcmc = tree2array(thadron, branches=['xcmc'])\n",
    "# hycmc = tree2array(thadron, branches=['ycmc'])\n",
    "# hzenmc = tree2array(thadron, branches=['zenmc'])\n",
    "# hazimc = tree2array(thadron, branches=['azimc'])\n",
    "# np.savez(\"datag.npz\", npe = gpe, x = gx, y = gy, t = gt, tr = gtr, iconf = giconf, dr = gdr, cpx = gcpx, pinc = gpinc, priE = gE, nhit = gnhit, fee = gfee, ch = gch, evt = gevt, xcmc = gxcmc, ycmc = gycmc, zenmc = gzenmc, azimc = gazimc)\n",
    "# np.savez(\"datah.npz\", npe = hpe, x = hx, y = hy, t = ht, tr = htr, iconf = hiconf, dr = hdr, cpx = hcpx, pinc = hpinc, priE = hE, nhit = hnhit, fee = hfee, ch = hch, evt = hevt, xcmc = hxcmc, ycmc = hycmc, zenmc = hzenmc, azimc = hazimc)"
   ]
  },
  {
   "cell_type": "code",
   "execution_count": null,
   "metadata": {},
   "outputs": [],
   "source": [
    "detx = [e for e in tqdm(flatten(gx))]\n",
    "dety = [e for e in tqdm(flatten(gy))]"
   ]
  },
  {
   "cell_type": "code",
   "execution_count": null,
   "metadata": {},
   "outputs": [],
   "source": [
    "detx = np.unique(np.array(detx))\n",
    "dety = np.unique(np.array(dety))\n",
    "dety=dety[::-1]"
   ]
  },
  {
   "cell_type": "code",
   "execution_count": null,
   "metadata": {},
   "outputs": [],
   "source": [
    "# See the grid\n",
    "X, Y = np.meshgrid(detx, dety)\n",
    "# for i in range(52):\n",
    "plt.scatter(X, Y, alpha=0.5, s=10, c=\"b\")"
   ]
  },
  {
   "cell_type": "code",
   "execution_count": null,
   "metadata": {},
   "outputs": [],
   "source": [
    "# Data converter xy2ij\n",
    "\n",
    "cxi = [[np.where(detx == x)[0][0] for x in gx[i][0]] for i in tqdm(range(len(gx)))]\n",
    "cyj = [[np.where(dety == y)[0][0] for y in gy[i][0]] for i in tqdm(range(len(gy)))]\n",
    "# cxi = [[np.where(detx == x)[0][0] for x in gx[i][0]] for i in tqdm(range(len(gx)))]\n",
    "# cyj = [[np.where(dety == y)[0][0] for y in gy[i][0]] for i in tqdm(range(len(gy)))]"
   ]
  },
  {
   "cell_type": "code",
   "execution_count": null,
   "metadata": {},
   "outputs": [],
   "source": [
    "# Data converter pe&t\n",
    "\n",
    "cgpe = np.zeros((10000,52,120))+1\n",
    "cgt = np.zeros((10000,52,120))+1\n",
    "chpe = np.zeros((10000,52,120))+1\n",
    "cht = np.zeros((10000,52,120))+1\n",
    "for i in tqdm(range(1000)):\n",
    "    for j in range(len(cxi[i])):\n",
    "        cgpe[i][cyj[i][j]][cxi[i][j]] += gpe[i][0][j]\n",
    "        cgt[i][cyj[i][j]][cxi[i][j]] += gt[i][0][j]\n",
    "        chpe[i][cyj[i][j]][cxi[i][j]] += hpe[i][0][j]\n",
    "        cht[i][cyj[i][j]][cxi[i][j]] += ht[i][0][j]"
   ]
  },
  {
   "cell_type": "code",
   "execution_count": null,
   "metadata": {},
   "outputs": [],
   "source": [
    "#Target map\n",
    "\n",
    "#Event id\n",
    "ievent = 0\n",
    "#Smoth sigma, 0 means no smooth\n",
    "sigma = 0.5\n",
    "\n",
    "#plt fig\n",
    "plt.figure(dpi=100)\n",
    "cm = plt.cm.get_cmap('magma')\n",
    "plt.xticks(np.linspace(0,120,5),np.linspace(int(detx.min()),int(detx.max()),5))\n",
    "plt.yticks(np.linspace(0,52,5),np.linspace(int(dety.max()),int(dety.min()),5))\n",
    "plt.imshow(ndi.gaussian_filter(cgpe[ievent], sigma=sigma),aspect='auto',cmap=cm,interpolation='none',norm=colors.LogNorm(clip=True,vmin=cgpe[ievent].max()/50,vmax=cgpe[ievent].max())) #\n",
    "plt.title(\"Nhit: %d\" %(gnhit[ievent][0]))\n",
    "# plt.contour(cgpe[ievent], [cgpe[ievent].max()-400, cgpe[ievent].max()-300, cgpe[ievent].max()-200])\n",
    "plt.colorbar()"
   ]
  },
  {
   "cell_type": "code",
   "execution_count": null,
   "metadata": {},
   "outputs": [],
   "source": [
    "# Data viewer\n",
    "\n",
    "plt.figure()\n",
    "cm = plt.cm.get_cmap('RdPu')\n",
    "# for i in range(0):\n",
    "for i in [ievent]:\n",
    "    # plt.scatter(gx[i][0], gy[i][0], s=50, c=giconf[i][0], alpha=0.5, norm=colors.Normalize(min(giconf[i][0]),max(giconf[i][0])), cmap=cm)    #giconf\n",
    "    # plt.scatter(gx[i][0], gy[i][0], s=50, c=gfee[i][0], alpha=0.5, norm=colors.Normalize(min(gfee[i][0]),max(gfee[i][0])), cmap=cm)          #gfee\n",
    "    # plt.scatter(gx[i][0], gy[i][0], s=50, c=gch[i][0], alpha=0.5, norm=colors.Normalize(min(gch[i][0]),max(gch[i][0])), cmap=cm)             #gch\n",
    "    plt.scatter(gx[i][0], gy[i][0], s=50, c=gt[i][0], alpha=0.5, norm=colors.Normalize(min(gt[i][0]),max(gt[i][0])), cmap=cm)                #gt\n",
    "    # plt.scatter(gx[i][0], gy[i][0], s=50, c=gtr[i][0], alpha=0.5, norm=colors.Normalize(min(gtr[i][0]),max(gtr[i][0])), cmap=cm)             #gtr\n",
    "    # plt.scatter(gx[i][0], gy[i][0], s=50, c=gpe[i][0], alpha=0.5, norm=colors.LogNorm(min(gpe[i][0]),max(gpe[i][0])), cmap=cm)               #gpe\n",
    "    # plt.scatter(hx[i][0], hy[i][0], s=50, c=hpe[i][0], alpha=0.5, norm=colors.LogNorm(min(hpe[i][0]),max(hpe[i][0])), cmap=cm)               #hpe\n",
    "plt.colorbar()\n",
    "# ax=plt.gca()\n",
    "# for i in range(gnhit[0][0]-200):\n",
    "#     plt.text(gx[0][0][i], gy[0][0][i], giconf[0][0][i], fontsize=1, color = \"r\", transform=ax.transAxes, style = \"italic\", weight = \"bold\", verticalalignment='center', horizontalalignment='center')"
   ]
  }
 ],
 "metadata": {
  "interpreter": {
   "hash": "a26992196d63a52d3cd499ef10bc0184198888ec8704dc14a62a3de45561f2c3"
  },
  "kernelspec": {
   "display_name": "Python 3.7.12 ('myroot')",
   "language": "python",
   "name": "python3"
  },
  "language_info": {
   "codemirror_mode": {
    "name": "ipython",
    "version": 3
   },
   "file_extension": ".py",
   "mimetype": "text/x-python",
   "name": "python",
   "nbconvert_exporter": "python",
   "pygments_lexer": "ipython3",
   "version": "3.7.12"
  },
  "orig_nbformat": 4
 },
 "nbformat": 4,
 "nbformat_minor": 2
}
